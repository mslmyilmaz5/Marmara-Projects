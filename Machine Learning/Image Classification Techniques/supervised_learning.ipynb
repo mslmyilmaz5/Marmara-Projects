{
  "cells": [
    {
      "cell_type": "code",
      "execution_count": null,
      "metadata": {
        "id": "IjBYQ-ZWoWV5"
      },
      "outputs": [],
      "source": [
        "import tensorflow as tf\n",
        "import sys\n",
        "from keras.utils import to_categorical\n",
        "from tensorflow.keras import datasets, layers, models\n",
        "import matplotlib.pyplot as pyplot\n",
        "import numpy as np\n",
        "from sklearn.model_selection import train_test_split\n",
        "from keras.models import Sequential\n",
        "from keras.layers import Conv2D\n",
        "from keras.layers import MaxPooling2D\n",
        "from keras.layers import Dense\n",
        "from keras.layers import Flatten\n",
        "from keras.optimizers import SGD\n",
        "from keras.preprocessing.image import ImageDataGenerator\n",
        "from keras.layers import Dropout\n",
        "from keras.layers import BatchNormalization\n",
        "import tensorflow as tf\n",
        "from keras.models import load_model\n",
        "from tensorflow.keras.layers import Input, Conv2D, BatchNormalization, Dense\n",
        "from tensorflow.keras.layers import AvgPool2D, GlobalAveragePooling2D, MaxPool2D\n",
        "from tensorflow.keras.models import Model\n",
        "from tensorflow.keras.layers import ReLU, concatenate\n",
        "import tensorflow.keras.backend as K"
      ]
    },
    {
      "cell_type": "code",
      "execution_count": null,
      "metadata": {
        "id": "rZ4PnTtBf9Pc"
      },
      "outputs": [],
      "source": [
        "## PARAMETERS\n",
        "LEARNING_RATE = 0.001\n",
        "BATCH_SIZE = 64\n",
        "MOMENTUM = 0.9 # convergence optimization\n",
        "EPOCH = 70\n",
        "VERBOSE = 1 # display style\n",
        "OUTPUT_CLASS = 10\n",
        "INPUT_SHAPE = (32,32,3)\n",
        "\n",
        "(X_train, y_train), (X_test,y_test) = datasets.cifar10.load_data()\n",
        "LABELS = [\"airplane\",\"automobile\",\"bird\",\"cat\",\"deer\",\"dog\",\"frog\",\"horse\",\"ship\",\"truck\"]"
      ]
    },
    {
      "cell_type": "code",
      "execution_count": null,
      "metadata": {
        "id": "uVN7qon5oOUN"
      },
      "outputs": [],
      "source": [
        "y_train, y_test = data_preparation(y_train, y_test)"
      ]
    },
    {
      "cell_type": "code",
      "execution_count": null,
      "metadata": {
        "id": "NuiFb6Slo29g"
      },
      "outputs": [],
      "source": [
        "X_train, X_test = image_resizing(X_train,X_test)"
      ]
    },
    {
      "cell_type": "code",
      "execution_count": null,
      "metadata": {
        "id": "TxZGBe4LpQHQ"
      },
      "outputs": [],
      "source": [
        "cnn_model = create_model(INPUT_SHAPE,LEARNING_RATE,MOMENTUM,OUTPUT_CLASS)"
      ]
    },
    {
      "cell_type": "code",
      "execution_count": null,
      "metadata": {
        "colab": {
          "base_uri": "https://localhost:8080/"
        },
        "id": "WciXFaLaqoTk",
        "outputId": "fcaddd3f-570b-49e1-b6ed-01bd3fdf030e"
      },
      "outputs": [],
      "source": [
        "cnn_model.summary()"
      ]
    },
    {
      "cell_type": "markdown",
      "metadata": {
        "id": "tGkoh2c6w1vo"
      },
      "source": [
        "Pretrain the model for the maximum accuracy using all the available labeled data."
      ]
    },
    {
      "cell_type": "code",
      "execution_count": null,
      "metadata": {
        "colab": {
          "base_uri": "https://localhost:8080/"
        },
        "id": "M6kr1WFpplBS",
        "outputId": "8fb5275d-f66d-41b9-a6c7-ee6261fb2b9e"
      },
      "outputs": [],
      "source": [
        "history = cnn_model.fit(X_train, y_train, batch_size=BATCH_SIZE, epochs=EPOCH,validation_data=(X_test, y_test),verbose=VERBOSE)\n",
        "_, acc = cnn_model.evaluate(X_test, y_test)"
      ]
    },
    {
      "cell_type": "markdown",
      "metadata": {
        "id": "qKy1zh7I3JiQ"
      },
      "source": [
        "Save the model and history"
      ]
    },
    {
      "cell_type": "code",
      "execution_count": null,
      "metadata": {
        "id": "okErZAc5z19F"
      },
      "outputs": [],
      "source": [
        "import pickle\n",
        "cnn_model.save('cnn_model_70Epoch')\n",
        "\n",
        "with open('history.pkl', 'wb') as file:\n",
        "    pickle.dump(history.history, file)"
      ]
    },
    {
      "cell_type": "markdown",
      "metadata": {
        "id": "Cor_aMb-2rp3"
      },
      "source": [
        "To use the existing history file and the trained model;"
      ]
    },
    {
      "cell_type": "code",
      "execution_count": null,
      "metadata": {
        "id": "jxwyn6Yz2ZWH"
      },
      "outputs": [],
      "source": [
        "from keras.callbacks import History\n",
        "import pickle\n",
        "\n",
        "with open('history.pkl', 'rb') as file:\n",
        "    loaded_history = pickle.load(file)\n",
        "\n",
        "history = History()\n",
        "history.history = loaded_history\n",
        "\n",
        "cnn_model = tf.keras.models.load_model('content/cnn_model_70Epoch')"
      ]
    },
    {
      "cell_type": "code",
      "execution_count": null,
      "metadata": {
        "colab": {
          "base_uri": "https://localhost:8080/",
          "height": 192
        },
        "id": "vwILZJB9qhlL",
        "outputId": "59b00e9b-3a2a-4c5b-b64f-4f9d7c6ddace"
      },
      "outputs": [],
      "source": [
        "print('> %.3f' % (acc * 100.0))\n",
        "plot_it(history)"
      ]
    },
    {
      "cell_type": "code",
      "execution_count": null,
      "metadata": {
        "colab": {
          "base_uri": "https://localhost:8080/",
          "height": 824
        },
        "id": "OPBF0HKnq0i9",
        "outputId": "1732a4a6-3c3c-40f2-d0e0-e0eb11769411"
      },
      "outputs": [],
      "source": [
        "y_predictions_raw = cnn_model.predict(X_test)\n",
        "y_predictions_logits = [np.argmax(data) for data in y_predictions_raw] # raw to index\n",
        "y_true_logits = [np.argmax(data) for data in y_test] # categorial to index\n",
        "\n",
        "fig, axes = pyplot.subplots(nrows=4, ncols=4, figsize=(8, 8))\n",
        "# Iterate through the chosen number of images\n",
        "for i in range(16):\n",
        "    # Get the image and its corresponding label\n",
        "    image = X_test[i]\n",
        "    color = ''\n",
        "    if(LABELS[y_predictions_logits[i]] == LABELS[y_true_logits[i]]):\n",
        "        color = 'black'\n",
        "    else:\n",
        "        color = 'red'\n",
        "\n",
        "    # Plot the image on the corresponding subplot\n",
        "    ax = axes[i // 4, i % 4]\n",
        "    ax.imshow(image)\n",
        "    ax.set_title(f'Prediction:{LABELS[y_predictions_logits[i]]}',fontsize=10,color=color)\n",
        "    ax.text(0.5, -0.15, f'{LABELS[y_true_logits[i]]}', va='center',ha='center', transform=ax.transAxes)\n",
        "    ax.axis('off')  # Turn off axis labels for clarity\n",
        "pyplot.tight_layout()\n",
        "pyplot.show()\n"
      ]
    },
    {
      "cell_type": "markdown",
      "metadata": {
        "id": "9G_S2axnn_h0"
      },
      "source": [
        "Functions"
      ]
    },
    {
      "cell_type": "code",
      "execution_count": null,
      "metadata": {
        "id": "eDskKfuxoHLR"
      },
      "outputs": [],
      "source": [
        "def data_preparation(y_train,y_test):\n",
        "  # one-hot encoding for labels.\n",
        "  # string label_to --> zeros,ones\n",
        "  y_train = to_categorical(y_train)\n",
        "  y_test = to_categorical(y_test)\n",
        "  return y_train,y_test"
      ]
    },
    {
      "cell_type": "code",
      "execution_count": null,
      "metadata": {
        "id": "D54bxDxIobYu"
      },
      "outputs": [],
      "source": [
        "def image_resizing(X_train,X_test):\n",
        "\n",
        "  ## integer to floats\n",
        "  norm_X_train = X_train.astype('float32')\n",
        "  norm_X_test = X_test.astype('float32')\n",
        "\n",
        "\n",
        "  # normalize to range 0-1\n",
        "  norm_X_train = norm_X_train / 255.0\n",
        "  norm_X_test = norm_X_test / 255.0\n",
        "  return norm_X_train, norm_X_test"
      ]
    },
    {
      "cell_type": "code",
      "execution_count": null,
      "metadata": {
        "id": "qYLL6XBXpG_N"
      },
      "outputs": [],
      "source": [
        "def create_model(input_shape, learning_rate, momentum, output_class):\n",
        "    model = Sequential()\n",
        "    model.add(Conv2D(64, (3, 3), activation='relu', kernel_initializer='he_uniform', padding='same', input_shape=input_shape))\n",
        "    model.add(Conv2D(64, (3, 3), activation='relu', kernel_initializer='he_uniform', padding='same'))\n",
        "    model.add(MaxPooling2D((2, 2)))\n",
        "    model.add(Dropout(0.25))\n",
        "\n",
        "    model.add(Conv2D(128, (3, 3), activation='relu', kernel_initializer='he_uniform', padding='same'))\n",
        "    model.add(Conv2D(128, (3, 3), activation='relu', kernel_initializer='he_uniform', padding='same'))\n",
        "    model.add(MaxPooling2D((2, 2)))\n",
        "    model.add(Dropout(0.3))\n",
        "\n",
        "    model.add(Conv2D(256, (3, 3), activation='relu', kernel_initializer='he_uniform', padding='same'))\n",
        "    model.add(Conv2D(256, (3, 3), activation='relu', kernel_initializer='he_uniform', padding='same'))\n",
        "    model.add(MaxPooling2D((2, 2)))\n",
        "    model.add(Dropout(0.4))\n",
        "\n",
        "    model.add(Flatten())\n",
        "    model.add(Dense(256, activation='relu', kernel_initializer='he_uniform'))\n",
        "    model.add(Dropout(0.5))\n",
        "    model.add(Dense(output_class, activation='softmax'))\n",
        "\n",
        "    # compile model\n",
        "    opt = SGD(learning_rate=learning_rate, momentum=momentum)\n",
        "    model.compile(optimizer=opt, loss='categorical_crossentropy', metrics=['accuracy'])\n",
        "    return model"
      ]
    },
    {
      "cell_type": "code",
      "execution_count": null,
      "metadata": {
        "id": "e74h5LvsqcCl"
      },
      "outputs": [],
      "source": [
        "def plot_it(history):\n",
        "\n",
        "    pyplot.subplot(211)\n",
        "    pyplot.title('Cross Entropy Loss')\n",
        "    pyplot.plot(history.history['loss'], color='blue', label='train')\n",
        "    pyplot.plot(history.history['val_loss'], color='orange', label='test')\n",
        "    pyplot.legend()\n",
        "    pyplot.show()\n",
        "\n",
        "    pyplot.subplot(212)\n",
        "    pyplot.title('Classification Accuracy')\n",
        "    pyplot.plot(history.history['accuracy'], color='blue', label='train')\n",
        "    pyplot.plot(history.history['val_accuracy'], color='orange', label='test')\n",
        "    pyplot.legend()\n",
        "    pyplot.show()\n"
      ]
    }
  ],
  "metadata": {
    "accelerator": "GPU",
    "colab": {
      "gpuType": "T4",
      "provenance": []
    },
    "kernelspec": {
      "display_name": "Python 3",
      "name": "python3"
    },
    "language_info": {
      "name": "python"
    }
  },
  "nbformat": 4,
  "nbformat_minor": 0
}
